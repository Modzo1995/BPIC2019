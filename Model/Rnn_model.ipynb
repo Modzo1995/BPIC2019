{
 "cells": [
  {
   "cell_type": "code",
   "execution_count": 13,
   "metadata": {},
   "outputs": [],
   "source": [
    "import tensorflow as tf\n",
    "from tensorflow import keras\n",
    "from tensorflow.keras import layers\n",
    "from tensorflow.keras.callbacks import EarlyStopping,TensorBoard\n",
    "import datetime\n",
    "import pandas as pd\n",
    "import numpy as np\n",
    "from sklearn.preprocessing import LabelEncoder\n",
    "from sklearn.model_selection import train_test_split\n",
    "import matplotlib.pyplot as plt\n",
    "import keras_tuner as kt"
   ]
  },
  {
   "cell_type": "code",
   "execution_count": 3,
   "metadata": {},
   "outputs": [],
   "source": [
    "db = pd.read_csv(\"bpi19ite.csv\")"
   ]
  },
  {
   "cell_type": "code",
   "execution_count": 5,
   "metadata": {},
   "outputs": [],
   "source": [
    "iteration = db.pop('iteration')"
   ]
  },
  {
   "cell_type": "code",
   "execution_count": 6,
   "metadata": {},
   "outputs": [],
   "source": [
    "target = np.where(iteration.shift(1) >= 3,1,0)"
   ]
  },
  {
   "cell_type": "code",
   "execution_count": 7,
   "metadata": {},
   "outputs": [],
   "source": [
    "# normalize data (this is important for model convergence)\n",
    "def encode(db):\n",
    "    dtypes = list(zip(db.dtypes.index, map(str, db.dtypes)))\n",
    "    for k,dtype in dtypes:\n",
    "        if dtype == 'object':\n",
    "            db[k] = LabelEncoder().fit_transform(db[k])\n",
    "    return db.astype('float')"
   ]
  },
  {
   "cell_type": "code",
   "execution_count": 8,
   "metadata": {},
   "outputs": [],
   "source": [
    "data = encode(db)"
   ]
  },
  {
   "cell_type": "code",
   "execution_count": 9,
   "metadata": {},
   "outputs": [],
   "source": [
    "x_train, x_test, y_train, y_test = train_test_split(data,target,train_size=0.7,shuffle=False)"
   ]
  },
  {
   "cell_type": "code",
   "execution_count": 30,
   "metadata": {},
   "outputs": [],
   "source": [
    "def model_builder(hp):\n",
    "  model = keras.Sequential()\n",
    "\n",
    "  # Tune the number of units in the first Dense layer\n",
    "  # Choose an optimal value between 32-512\n",
    "  hp_units1 = hp.Int('units', min_value=32, max_value=512, step=32)\n",
    "  hp_units2 = hp.Int('units', min_value=32, max_value=512, step=32)\n",
    "  hp_units3 = hp.Int('units', min_value=32, max_value=512, step=32)\n",
    "  hp_units4 = hp.Int('units', min_value=32, max_value=512, step=32)\n",
    "  hp_hidden_activation4 = hp.Choice('activition', values=['relu','tanh'])\n",
    "  hp_dense_activation = hp.Choice('activation', values=['softmax','sigmoid'])\n",
    "  \n",
    "  \n",
    "  model.add(tf.keras.layers.Reshape((data.shape[1],-1),input_shape=(data.shape[1],)))\n",
    "  model.add(layers.LSTM(hp_units1,return_sequences=True))\n",
    "  model.add(tf.keras.layers.Dropout(0.2))\n",
    "  model.add(tf.keras.layers.BatchNormalization())\n",
    "\n",
    "  model.add(layers.LSTM(hp_units2, return_sequences=True))\n",
    "  model.add(tf.keras.layers.Dropout(0.2))\n",
    "  model.add(tf.keras.layers.BatchNormalization())\n",
    "\n",
    "  model.add(layers.LSTM(hp_units3, return_sequences=True))\n",
    "  model.add(tf.keras.layers.Dropout(0.2))\n",
    "  model.add(tf.keras.layers.BatchNormalization())\n",
    "      \n",
    "  model.add(layers.Flatten())\n",
    "  model.add(layers.Dense(hp_units4, activation=hp_hidden_activation4))\n",
    "  model.add(tf.keras.layers.Dropout(0.2))\n",
    "  model.add(tf.keras.layers.BatchNormalization())\n",
    "\n",
    "  model.add(tf.keras.layers.Dense(1,activation = hp_dense_activation))\n",
    "\n",
    "  # Tune the learning rate for the optimizer\n",
    "  # Choose an optimal value from 0.01, 0.001, or 0.0001\n",
    "  hp_learning_rate = hp.Choice('learning_rate', values=[1e-2, 1e-3, 1e-4])\n",
    "\n",
    "  model.compile(optimizer=keras.optimizers.Adam(learning_rate=hp_learning_rate),\n",
    "                loss=tf.keras.losses.BinaryCrossentropy(),\n",
    "                metrics=['accuracy'])\n",
    "\n",
    "  return model"
   ]
  },
  {
   "cell_type": "code",
   "execution_count": 31,
   "metadata": {},
   "outputs": [
    {
     "name": "stdout",
     "output_type": "stream",
     "text": [
      "Reloading Tuner from my_dir/lstm/tuner0.json\n"
     ]
    }
   ],
   "source": [
    "tuner = kt.Hyperband(model_builder,\n",
    "                     objective='val_accuracy',\n",
    "                     max_epochs=10,\n",
    "                     factor=3,\n",
    "                     directory='my_dir',\n",
    "                     project_name='lstm')"
   ]
  },
  {
   "cell_type": "code",
   "execution_count": 32,
   "metadata": {},
   "outputs": [
    {
     "name": "stdout",
     "output_type": "stream",
     "text": [
      "Num GPUs Available:  1\n"
     ]
    }
   ],
   "source": [
    "import tensorflow as tf\n",
    "print(\"Num GPUs Available: \", len(tf.config.list_physical_devices('GPU')))"
   ]
  },
  {
   "cell_type": "code",
   "execution_count": 33,
   "metadata": {},
   "outputs": [],
   "source": [
    "sm_train,sm_test,sy_train,sy_test = train_test_split(x_train,y_train,train_size=0.1,shuffle=False)\n",
    "stop_early = tf.keras.callbacks.EarlyStopping(monitor='val_loss', patience=5)"
   ]
  },
  {
   "cell_type": "code",
   "execution_count": 34,
   "metadata": {},
   "outputs": [
    {
     "name": "stdout",
     "output_type": "stream",
     "text": [
      "Trial 26 Complete [00h 11m 43s]\n",
      "val_accuracy: 0.15418699383735657\n",
      "\n",
      "Best val_accuracy So Far: 0.9654477834701538\n",
      "Total elapsed time: 01h 53m 41s\n"
     ]
    }
   ],
   "source": [
    "tuner.search(sm_train, sy_train, epochs=50, validation_split=0.2, callbacks=[stop_early])\n",
    "\n",
    "# Get the optimal hyperparameters\n",
    "best_hps=tuner.get_best_hyperparameters(num_trials=1)[0]"
   ]
  },
  {
   "cell_type": "code",
   "execution_count": 35,
   "metadata": {},
   "outputs": [
    {
     "name": "stderr",
     "output_type": "stream",
     "text": [
      "/home/modzo/miniconda3/lib/python3.11/site-packages/keras/src/layers/reshaping/reshape.py:39: UserWarning: Do not pass an `input_shape`/`input_dim` argument to a layer. When using Sequential models, prefer using an `Input(shape)` object as the first layer in the model instead.\n",
      "  super().__init__(**kwargs)\n"
     ]
    }
   ],
   "source": [
    "model_rnn= tuner.hypermodel.build(best_hps)"
   ]
  },
  {
   "cell_type": "code",
   "execution_count": 36,
   "metadata": {},
   "outputs": [],
   "source": [
    "early = EarlyStopping(min_delta = 0.001, patience=25, restore_best_weights=True)"
   ]
  },
  {
   "cell_type": "code",
   "execution_count": 37,
   "metadata": {},
   "outputs": [
    {
     "name": "stdout",
     "output_type": "stream",
     "text": [
      "Epoch 1/100\n",
      "\u001b[1m3492/3492\u001b[0m \u001b[32m━━━━━━━━━━━━━━━━━━━━\u001b[0m\u001b[37m\u001b[0m \u001b[1m112s\u001b[0m 30ms/step - accuracy: 0.9405 - loss: 0.2499 - val_accuracy: 0.9498 - val_loss: 0.1871\n",
      "Epoch 2/100\n",
      "\u001b[1m3492/3492\u001b[0m \u001b[32m━━━━━━━━━━━━━━━━━━━━\u001b[0m\u001b[37m\u001b[0m \u001b[1m105s\u001b[0m 30ms/step - accuracy: 0.9520 - loss: 0.1729 - val_accuracy: 0.9460 - val_loss: 0.1776\n",
      "Epoch 3/100\n",
      "\u001b[1m3492/3492\u001b[0m \u001b[32m━━━━━━━━━━━━━━━━━━━━\u001b[0m\u001b[37m\u001b[0m \u001b[1m106s\u001b[0m 30ms/step - accuracy: 0.9527 - loss: 0.1684 - val_accuracy: 0.9498 - val_loss: 0.1746\n",
      "Epoch 4/100\n",
      "\u001b[1m3492/3492\u001b[0m \u001b[32m━━━━━━━━━━━━━━━━━━━━\u001b[0m\u001b[37m\u001b[0m \u001b[1m106s\u001b[0m 30ms/step - accuracy: 0.9532 - loss: 0.1656 - val_accuracy: 0.9480 - val_loss: 0.1743\n",
      "Epoch 5/100\n",
      "\u001b[1m3492/3492\u001b[0m \u001b[32m━━━━━━━━━━━━━━━━━━━━\u001b[0m\u001b[37m\u001b[0m \u001b[1m106s\u001b[0m 30ms/step - accuracy: 0.9532 - loss: 0.1647 - val_accuracy: 0.9464 - val_loss: 0.1738\n",
      "Epoch 6/100\n",
      "\u001b[1m3492/3492\u001b[0m \u001b[32m━━━━━━━━━━━━━━━━━━━━\u001b[0m\u001b[37m\u001b[0m \u001b[1m105s\u001b[0m 30ms/step - accuracy: 0.9540 - loss: 0.1622 - val_accuracy: 0.9469 - val_loss: 0.1778\n",
      "Epoch 7/100\n",
      "\u001b[1m3492/3492\u001b[0m \u001b[32m━━━━━━━━━━━━━━━━━━━━\u001b[0m\u001b[37m\u001b[0m \u001b[1m107s\u001b[0m 31ms/step - accuracy: 0.9544 - loss: 0.1596 - val_accuracy: 0.9465 - val_loss: 0.1734\n",
      "Epoch 8/100\n",
      "\u001b[1m3492/3492\u001b[0m \u001b[32m━━━━━━━━━━━━━━━━━━━━\u001b[0m\u001b[37m\u001b[0m \u001b[1m97s\u001b[0m 28ms/step - accuracy: 0.9545 - loss: 0.1591 - val_accuracy: 0.9461 - val_loss: 0.1743\n",
      "Epoch 9/100\n",
      "\u001b[1m3492/3492\u001b[0m \u001b[32m━━━━━━━━━━━━━━━━━━━━\u001b[0m\u001b[37m\u001b[0m \u001b[1m97s\u001b[0m 28ms/step - accuracy: 0.9549 - loss: 0.1572 - val_accuracy: 0.9464 - val_loss: 0.1756\n",
      "Epoch 10/100\n",
      "\u001b[1m3492/3492\u001b[0m \u001b[32m━━━━━━━━━━━━━━━━━━━━\u001b[0m\u001b[37m\u001b[0m \u001b[1m97s\u001b[0m 28ms/step - accuracy: 0.9541 - loss: 0.1590 - val_accuracy: 0.9466 - val_loss: 0.1735\n",
      "Epoch 11/100\n",
      "\u001b[1m3492/3492\u001b[0m \u001b[32m━━━━━━━━━━━━━━━━━━━━\u001b[0m\u001b[37m\u001b[0m \u001b[1m104s\u001b[0m 30ms/step - accuracy: 0.9540 - loss: 0.1591 - val_accuracy: 0.9463 - val_loss: 0.1741\n",
      "Epoch 12/100\n",
      "\u001b[1m3492/3492\u001b[0m \u001b[32m━━━━━━━━━━━━━━━━━━━━\u001b[0m\u001b[37m\u001b[0m \u001b[1m107s\u001b[0m 31ms/step - accuracy: 0.9543 - loss: 0.1576 - val_accuracy: 0.9470 - val_loss: 0.1730\n",
      "Epoch 13/100\n",
      "\u001b[1m3492/3492\u001b[0m \u001b[32m━━━━━━━━━━━━━━━━━━━━\u001b[0m\u001b[37m\u001b[0m \u001b[1m106s\u001b[0m 30ms/step - accuracy: 0.9544 - loss: 0.1575 - val_accuracy: 0.9466 - val_loss: 0.1754\n",
      "Epoch 14/100\n",
      "\u001b[1m3492/3492\u001b[0m \u001b[32m━━━━━━━━━━━━━━━━━━━━\u001b[0m\u001b[37m\u001b[0m \u001b[1m108s\u001b[0m 31ms/step - accuracy: 0.9546 - loss: 0.1565 - val_accuracy: 0.9465 - val_loss: 0.1776\n",
      "Epoch 15/100\n",
      "\u001b[1m3492/3492\u001b[0m \u001b[32m━━━━━━━━━━━━━━━━━━━━\u001b[0m\u001b[37m\u001b[0m \u001b[1m107s\u001b[0m 31ms/step - accuracy: 0.9543 - loss: 0.1572 - val_accuracy: 0.9464 - val_loss: 0.1785\n",
      "Epoch 16/100\n",
      "\u001b[1m3492/3492\u001b[0m \u001b[32m━━━━━━━━━━━━━━━━━━━━\u001b[0m\u001b[37m\u001b[0m \u001b[1m102s\u001b[0m 29ms/step - accuracy: 0.9546 - loss: 0.1555 - val_accuracy: 0.9466 - val_loss: 0.1790\n",
      "Epoch 17/100\n",
      "\u001b[1m3492/3492\u001b[0m \u001b[32m━━━━━━━━━━━━━━━━━━━━\u001b[0m\u001b[37m\u001b[0m \u001b[1m106s\u001b[0m 30ms/step - accuracy: 0.9543 - loss: 0.1560 - val_accuracy: 0.9466 - val_loss: 0.1750\n",
      "Epoch 18/100\n",
      "\u001b[1m3492/3492\u001b[0m \u001b[32m━━━━━━━━━━━━━━━━━━━━\u001b[0m\u001b[37m\u001b[0m \u001b[1m107s\u001b[0m 31ms/step - accuracy: 0.9544 - loss: 0.1564 - val_accuracy: 0.9464 - val_loss: 0.1763\n",
      "Epoch 19/100\n",
      "\u001b[1m3492/3492\u001b[0m \u001b[32m━━━━━━━━━━━━━━━━━━━━\u001b[0m\u001b[37m\u001b[0m \u001b[1m105s\u001b[0m 30ms/step - accuracy: 0.9542 - loss: 0.1558 - val_accuracy: 0.9464 - val_loss: 0.1786\n",
      "Epoch 20/100\n",
      "\u001b[1m3492/3492\u001b[0m \u001b[32m━━━━━━━━━━━━━━━━━━━━\u001b[0m\u001b[37m\u001b[0m \u001b[1m106s\u001b[0m 30ms/step - accuracy: 0.9540 - loss: 0.1559 - val_accuracy: 0.9464 - val_loss: 0.1786\n",
      "Epoch 21/100\n",
      "\u001b[1m3492/3492\u001b[0m \u001b[32m━━━━━━━━━━━━━━━━━━━━\u001b[0m\u001b[37m\u001b[0m \u001b[1m106s\u001b[0m 30ms/step - accuracy: 0.9543 - loss: 0.1550 - val_accuracy: 0.9468 - val_loss: 0.1775\n",
      "Epoch 22/100\n",
      "\u001b[1m3492/3492\u001b[0m \u001b[32m━━━━━━━━━━━━━━━━━━━━\u001b[0m\u001b[37m\u001b[0m \u001b[1m108s\u001b[0m 31ms/step - accuracy: 0.9548 - loss: 0.1542 - val_accuracy: 0.9465 - val_loss: 0.1775\n",
      "Epoch 23/100\n",
      "\u001b[1m3492/3492\u001b[0m \u001b[32m━━━━━━━━━━━━━━━━━━━━\u001b[0m\u001b[37m\u001b[0m \u001b[1m103s\u001b[0m 29ms/step - accuracy: 0.9546 - loss: 0.1537 - val_accuracy: 0.9466 - val_loss: 0.1766\n",
      "Epoch 24/100\n",
      "\u001b[1m3492/3492\u001b[0m \u001b[32m━━━━━━━━━━━━━━━━━━━━\u001b[0m\u001b[37m\u001b[0m \u001b[1m98s\u001b[0m 28ms/step - accuracy: 0.9550 - loss: 0.1527 - val_accuracy: 0.9463 - val_loss: 0.1783\n",
      "Epoch 25/100\n",
      "\u001b[1m3492/3492\u001b[0m \u001b[32m━━━━━━━━━━━━━━━━━━━━\u001b[0m\u001b[37m\u001b[0m \u001b[1m98s\u001b[0m 28ms/step - accuracy: 0.9552 - loss: 0.1519 - val_accuracy: 0.9463 - val_loss: 0.1797\n",
      "Epoch 26/100\n",
      "\u001b[1m3492/3492\u001b[0m \u001b[32m━━━━━━━━━━━━━━━━━━━━\u001b[0m\u001b[37m\u001b[0m \u001b[1m98s\u001b[0m 28ms/step - accuracy: 0.9544 - loss: 0.1543 - val_accuracy: 0.9466 - val_loss: 0.1817\n",
      "Epoch 27/100\n",
      "\u001b[1m3492/3492\u001b[0m \u001b[32m━━━━━━━━━━━━━━━━━━━━\u001b[0m\u001b[37m\u001b[0m \u001b[1m98s\u001b[0m 28ms/step - accuracy: 0.9549 - loss: 0.1531 - val_accuracy: 0.9464 - val_loss: 0.1803\n",
      "Epoch 28/100\n",
      "\u001b[1m3492/3492\u001b[0m \u001b[32m━━━━━━━━━━━━━━━━━━━━\u001b[0m\u001b[37m\u001b[0m \u001b[1m98s\u001b[0m 28ms/step - accuracy: 0.9546 - loss: 0.1532 - val_accuracy: 0.9466 - val_loss: 0.1799\n",
      "Epoch 29/100\n",
      "\u001b[1m3492/3492\u001b[0m \u001b[32m━━━━━━━━━━━━━━━━━━━━\u001b[0m\u001b[37m\u001b[0m \u001b[1m98s\u001b[0m 28ms/step - accuracy: 0.9548 - loss: 0.1523 - val_accuracy: 0.9465 - val_loss: 0.1857\n",
      "Epoch 30/100\n",
      "\u001b[1m3492/3492\u001b[0m \u001b[32m━━━━━━━━━━━━━━━━━━━━\u001b[0m\u001b[37m\u001b[0m \u001b[1m97s\u001b[0m 28ms/step - accuracy: 0.9549 - loss: 0.1516 - val_accuracy: 0.9466 - val_loss: 0.1836\n",
      "Epoch 31/100\n",
      "\u001b[1m3492/3492\u001b[0m \u001b[32m━━━━━━━━━━━━━━━━━━━━\u001b[0m\u001b[37m\u001b[0m \u001b[1m99s\u001b[0m 28ms/step - accuracy: 0.9545 - loss: 0.1522 - val_accuracy: 0.9466 - val_loss: 0.1810\n",
      "Epoch 32/100\n",
      "\u001b[1m3492/3492\u001b[0m \u001b[32m━━━━━━━━━━━━━━━━━━━━\u001b[0m\u001b[37m\u001b[0m \u001b[1m105s\u001b[0m 30ms/step - accuracy: 0.9548 - loss: 0.1517 - val_accuracy: 0.9467 - val_loss: 0.1858\n"
     ]
    }
   ],
   "source": [
    "history = model_rnn.fit(x_train,y_train,\n",
    "                    validation_split = 0.2,\n",
    "                    batch_size=256,\n",
    "                    epochs = 100,\n",
    "                    callbacks=early,\n",
    "                   )"
   ]
  },
  {
   "cell_type": "code",
   "execution_count": 38,
   "metadata": {},
   "outputs": [
    {
     "name": "stderr",
     "output_type": "stream",
     "text": [
      "WARNING:absl:You are saving your model as an HDF5 file via `model.save()` or `keras.saving.save_model(model)`. This file format is considered legacy. We recommend using instead the native Keras format, e.g. `model.save('my_model.keras')` or `keras.saving.save_model(model, 'my_model.keras')`. \n"
     ]
    }
   ],
   "source": [
    "model_rnn.save('rnn_model_optimized.h5')"
   ]
  },
  {
   "cell_type": "code",
   "execution_count": 39,
   "metadata": {},
   "outputs": [
    {
     "name": "stdout",
     "output_type": "stream",
     "text": [
      "\u001b[1m14962/14962\u001b[0m \u001b[32m━━━━━━━━━━━━━━━━━━━━\u001b[0m\u001b[37m\u001b[0m \u001b[1m108s\u001b[0m 7ms/step - accuracy: 0.9379 - loss: 0.1841\n"
     ]
    }
   ],
   "source": [
    "score = model_rnn.evaluate(x_test,y_test)"
   ]
  },
  {
   "cell_type": "code",
   "execution_count": 40,
   "metadata": {},
   "outputs": [
    {
     "name": "stdout",
     "output_type": "stream",
     "text": [
      "Test loss: 0.18251752853393555 / Test accuracy: 0.9391240477561951\n"
     ]
    }
   ],
   "source": [
    "print(f'Test loss: {score[0]} / Test accuracy: {score[1]}')"
   ]
  },
  {
   "cell_type": "code",
   "execution_count": 42,
   "metadata": {},
   "outputs": [],
   "source": [
    "history_df = pd.DataFrame(history.history)"
   ]
  },
  {
   "cell_type": "code",
   "execution_count": 43,
   "metadata": {},
   "outputs": [
    {
     "data": {
      "text/plain": [
       "<Axes: >"
      ]
     },
     "execution_count": 43,
     "metadata": {},
     "output_type": "execute_result"
    },
    {
     "data": {
      "image/png": "[encoded data removed]",
      "text/plain": [
       "<Figure size 1500x1500 with 1 Axes>"
      ]
     },
     "metadata": {},
     "output_type": "display_data"
    }
   ],
   "source": [
    "plt.figure(figsize=(15,15))\n",
    "history_df['loss'].plot()"
   ]
  },
  {
   "cell_type": "code",
   "execution_count": null,
   "metadata": {},
   "outputs": [],
   "source": []
  }
 ],
 "metadata": {
  "kernelspec": {
   "display_name": "base",
   "language": "python",
   "name": "python3"
  },
  "language_info": {
   "codemirror_mode": {
    "name": "ipython",
    "version": 3
   },
   "file_extension": ".py",
   "mimetype": "text/x-python",
   "name": "python",
   "nbconvert_exporter": "python",
   "pygments_lexer": "ipython3",
   "version": "3.11.5"
  }
 },
 "nbformat": 4,
 "nbformat_minor": 2
}
